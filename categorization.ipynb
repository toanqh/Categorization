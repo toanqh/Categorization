{
  "nbformat": 4,
  "nbformat_minor": 0,
  "metadata": {
    "colab": {
      "provenance": []
    },
    "kernelspec": {
      "name": "python3",
      "display_name": "Python 3"
    },
    "language_info": {
      "name": "python"
    },
    "gpuClass": "standard"
  },
  "cells": [
    {
      "cell_type": "markdown",
      "source": [
        "**Câu 2: Xây dựng mô hình phân loại (categorization) bài báo sử dụng các phương pháp học máy khác nhau. Đo độ chính xác của các mô hình này.**"
      ],
      "metadata": {
        "id": "HN4MtlPd6Enj"
      }
    },
    {
      "cell_type": "code",
      "source": [
        "# Import libraries and classes required for this example:\n",
        "from sklearn.model_selection import train_test_split\n",
        "from sklearn.preprocessing import StandardScaler\n",
        "from sklearn.neighbors import KNeighborsClassifier\n",
        "from sklearn.metrics import classification_report, confusion_matrix\n",
        "import pandas as pd\n",
        "\n",
        "from gensim.models import word2vec, FastText\n",
        "import re\n",
        "\n",
        "from sklearn.decomposition import PCA\n",
        "\n",
        "from matplotlib import pyplot as plt\n",
        "import plotly.graph_objects as go\n",
        "\n",
        "import numpy as np\n",
        "\n",
        "import warnings\n",
        "warnings.filterwarnings('ignore')\n",
        "\n",
        "\n",
        "from sklearn.feature_extraction.text import TfidfVectorizer\n",
        "from sklearn.naive_bayes import MultinomialNB\n",
        "from sklearn import metrics\n",
        "import nltk\n",
        "import string\n",
        "from nltk.stem import WordNetLemmatizer\n",
        "\n",
        "\n",
        "import gensim\n",
        "from gensim.models import Word2Vec, KeyedVectors"
      ],
      "metadata": {
        "id": "xx2TSwviXMfT"
      },
      "execution_count": null,
      "outputs": []
    },
    {
      "cell_type": "code",
      "source": [
        "# importing data\n",
        "df = pd.read_csv('/content/drive/MyDrive/NLP Midterm/data.csv',encoding='utf-8')\n",
        "print(df.shape)"
      ],
      "metadata": {
        "colab": {
          "base_uri": "https://localhost:8080/"
        },
        "id": "aRY3jsNQJgw6",
        "outputId": "3243e251-60e3-46d4-c17f-de478e211f2d"
      },
      "execution_count": null,
      "outputs": [
        {
          "output_type": "stream",
          "name": "stdout",
          "text": [
            "(51999, 3)\n"
          ]
        }
      ]
    },
    {
      "cell_type": "code",
      "source": [
        "# head of the data\n",
        "print(df.head(5))"
      ],
      "metadata": {
        "colab": {
          "base_uri": "https://localhost:8080/"
        },
        "id": "Pa27xD2iJk5o",
        "outputId": "cb804a0e-e00a-40a6-d61d-2eba1c386396"
      },
      "execution_count": null,
      "outputs": [
        {
          "output_type": "stream",
          "name": "stdout",
          "text": [
            "                                               title   category  \\\n",
            "0        Galaxy Gear có thể điều khiển TV thông minh  Công nghệ   \n",
            "1  Nhật – Mỹ định hội đàm chớp nhoáng tại Singapo...   Thế giới   \n",
            "2         Hàng ngàn học sinh miền núi Nghệ An bỏ học   Giáo dục   \n",
            "3          'Cô ấy bỏ em vì... em gái trượt đại học?'   Đời sống   \n",
            "4  Cậu bé vượt qua Face ID của iPhone ngang anh Q...  Công nghệ   \n",
            "\n",
            "                                             content  \n",
            "0  Mẫu đồng hồ thông minh Galaxy Gear của Samsung...  \n",
            "1  >> Phó Tổng thống Mỹ công du châu Á, bàn về Bi...  \n",
            "2  Hàng ngàn học sinh sau khi tốt nghiệp THCS đã ...  \n",
            "3  Mr Búp Bê (BB): Hay là bạn phải đến kèm cho cô...  \n",
            "4  Trang Wired mới đây đưa thông tin cậu bé Ammar...  \n"
          ]
        }
      ]
    },
    {
      "cell_type": "code",
      "source": [
        "#Kiểm tra xem category đã cân bằng chưa\n",
        "print(df.groupby('category').size())\n",
        "\n",
        "# Plotting the bar chart\n",
        "%matplotlib inline\n",
        "df.groupby('category').size().plot(kind='bar');"
      ],
      "metadata": {
        "id": "NplNTDCnbbKC",
        "colab": {
          "base_uri": "https://localhost:8080/",
          "height": 583
        },
        "outputId": "234e9023-c982-4d53-9212-9ab8d4df63c5"
      },
      "execution_count": null,
      "outputs": [
        {
          "output_type": "stream",
          "name": "stdout",
          "text": [
            "category\n",
            "Công nghệ    4000\n",
            "Giáo dục     4000\n",
            "Giải trí     4000\n",
            "Khoa học     3999\n",
            "Kinh tế      4000\n",
            "Nhà đất      4000\n",
            "Pháp luật    4000\n",
            "Thế giới     4000\n",
            "Thể thao     4000\n",
            "Văn hóa      4000\n",
            "Xe cộ        4000\n",
            "Xã hội       4000\n",
            "Đời sống     4000\n",
            "dtype: int64\n"
          ]
        },
        {
          "output_type": "display_data",
          "data": {
            "text/plain": [
              "<Figure size 432x288 with 1 Axes>"
            ],
            "image/png": "[encoded data removed]"
          },
          "metadata": {
            "needs_background": "light"
          }
        }
      ]
    },
    {
      "cell_type": "code",
      "source": [
        "# X = df.loc[:,['title','content']]\n",
        "# print(X)\n",
        "# y = df.loc[:,['category']]\n",
        "# print(y)\n",
        "# .values"
      ],
      "metadata": {
        "id": "4wHMkTnTKziw"
      },
      "execution_count": null,
      "outputs": []
    },
    {
      "cell_type": "code",
      "source": [
        "#Import Vietnamese stopwords\n",
        "f = open('/content/drive/MyDrive/NLP Midterm/stop_word_vietnamese.txt', 'r', encoding='UTF-8')\n",
        "\n",
        "with open('/content/drive/MyDrive/NLP Midterm/stop_word_vietnamese.txt', 'r') as f:\n",
        "    stopwords = [s.strip() for s in f.readlines()]\n",
        "    print(stopwords)"
      ],
      "metadata": {
        "id": "3C3cJP437j0d",
        "colab": {
          "base_uri": "https://localhost:8080/"
        },
        "outputId": "35a002f7-f3bd-45b8-f5e5-575c39117653"
      },
      "execution_count": null,
      "outputs": [
        {
          "output_type": "stream",
          "name": "stdout",
          "text": [
            "['bị', 'bởi', 'cả', 'các', 'cái', 'cần', 'càng', 'chỉ', 'chiếc', 'cho', 'chứ', 'chưa', 'chuyện', 'có', 'có_thể', 'cứ', 'của', 'cùng', 'cũng', 'đã', 'đang', 'đây', 'để', 'đến_nỗi', 'đều', 'điều', 'do', 'đó', 'được', 'dưới', 'gì', 'khi', 'không', 'là', 'lại', 'lên', 'lúc', 'mà', 'mỗi', 'một_cách', 'này', 'nên', 'nếu', 'ngay', 'nhiều', 'như', 'nhưng', 'những', 'nơi', 'nữa', 'phải', 'qua', 'ra', 'rằng', 'rằng', 'rất', 'rất', 'rồi', 'sau', 'sẽ', 'so', 'sự', 'tại', 'theo', 'thì', 'trên', 'trước', 'từ', 'từng', 'và', 'vẫn', 'vào', 'vậy', 'vì', 'việc', 'với', 'vừa']\n"
          ]
        }
      ]
    },
    {
      "cell_type": "markdown",
      "source": [
        "**Text Preprocessing**"
      ],
      "metadata": {
        "id": "3Cbj1AKKoIEy"
      }
    },
    {
      "cell_type": "code",
      "source": [
        "#hàm xử lý stopwords\n",
        "stop = set(stopwords)\n",
        "\n",
        "def rem_en(input_txt):\n",
        "    words = input_txt.lower().split()\n",
        "    noise_free_words = [word for word in words if word not in stop]\n",
        "    noise_free_text = \" \".join(noise_free_words)\n",
        "    return noise_free_text\n",
        "\n"
      ],
      "metadata": {
        "id": "fhXa1xCI7BZs"
      },
      "execution_count": null,
      "outputs": []
    },
    {
      "cell_type": "code",
      "source": [
        "#Xóa link\n",
        "df[\"clean_text_content\"] = df[\"content\"].apply(lambda s: ' '.join(re.sub(\"(w+://S+)\", \" \", s).split()))\n",
        "\n",
        "#Xóa các ký tự đặc biệt\n",
        "df[\"clean_text_content\"] = df[\"clean_text_content\"].apply(lambda s: ' '.join(re.sub(r'[>>().,!?:;-=...\"@#_]', '', s).split()))\n",
        "\n",
        "#Xóa các number\n",
        "df[\"clean_text_content\"].replace('d+', '', regex=True, inplace=True)\n",
        "\n",
        "#Xử lý stopword\n",
        "df[\"clean_text_content\"] = df[\"clean_text_content\"].apply(lambda s: rem_en(s))\n",
        "\n",
        "\n",
        "df[\"clean_text_category\"] = df[\"category\"].apply(lambda s: rem_en(s))\n",
        "\n",
        "# df[['content', 'category','clean_text_content', 'clean_text_category']]\n",
        "df.info()"
      ],
      "metadata": {
        "colab": {
          "base_uri": "https://localhost:8080/"
        },
        "id": "uvfzita83jpu",
        "outputId": "cc83627d-d08f-43c9-ef8f-903a618d5aa2"
      },
      "execution_count": null,
      "outputs": [
        {
          "output_type": "stream",
          "name": "stdout",
          "text": [
            "<class 'pandas.core.frame.DataFrame'>\n",
            "RangeIndex: 51999 entries, 0 to 51998\n",
            "Data columns (total 5 columns):\n",
            " #   Column               Non-Null Count  Dtype \n",
            "---  ------               --------------  ----- \n",
            " 0   title                51999 non-null  object\n",
            " 1   category             51999 non-null  object\n",
            " 2   content              51999 non-null  object\n",
            " 3   clean_text_content   51999 non-null  object\n",
            " 4   clean_text_category  51999 non-null  object\n",
            "dtypes: object(5)\n",
            "memory usage: 2.0+ MB\n"
          ]
        }
      ]
    },
    {
      "cell_type": "code",
      "source": [
        "df"
      ],
      "metadata": {
        "colab": {
          "base_uri": "https://localhost:8080/",
          "height": 641
        },
        "id": "v1RRHuyZ-h9u",
        "outputId": "62463fdf-fefb-45df-f97b-5a4018b33c23"
      },
      "execution_count": null,
      "outputs": [
        {
          "output_type": "execute_result",
          "data": {
            "text/plain": [
              "                                                   title   category  \\\n",
              "0            Galaxy Gear có thể điều khiển TV thông minh  Công nghệ   \n",
              "1      Nhật – Mỹ định hội đàm chớp nhoáng tại Singapo...   Thế giới   \n",
              "2             Hàng ngàn học sinh miền núi Nghệ An bỏ học   Giáo dục   \n",
              "3              'Cô ấy bỏ em vì... em gái trượt đại học?'   Đời sống   \n",
              "4      Cậu bé vượt qua Face ID của iPhone ngang anh Q...  Công nghệ   \n",
              "...                                                  ...        ...   \n",
              "51994  Toàn cảnh tìm thấy hài cốt được cho là 2 phi c...   Khoa học   \n",
              "51995  Chú gấu túi may mắn sống sót sau hành trình 16...   Khoa học   \n",
              "51996  Bị cá mập trắng tấn công, dùng chổi đánh lại t...   Khoa học   \n",
              "51997  Phát hiện những hình vẽ bí ẩn trên sa mạc ở Tr...   Khoa học   \n",
              "51998      Hài hước với chùm ảnh động vật đón Giáng Sinh   Khoa học   \n",
              "\n",
              "                                                 content  \\\n",
              "0      Mẫu đồng hồ thông minh Galaxy Gear của Samsung...   \n",
              "1      >> Phó Tổng thống Mỹ công du châu Á, bàn về Bi...   \n",
              "2      Hàng ngàn học sinh sau khi tốt nghiệp THCS đã ...   \n",
              "3      Mr Búp Bê (BB): Hay là bạn phải đến kèm cho cô...   \n",
              "4      Trang Wired mới đây đưa thông tin cậu bé Ammar...   \n",
              "...                                                  ...   \n",
              "51994                                         VIỆT AN.\\n   \n",
              "51995  Chú gấu túi bị kẹt trong bánh xe ô tô. (Nguồn:...   \n",
              "51996  Video đập chổi vào đầu cá mập trắng khổng lồ.\\...   \n",
              "51997  Máy ảnh của vệ tinh đã chụp được những bức hìn...   \n",
              "51998  Cô nàng gấu trúc Funi rất hào hứng khi được dự...   \n",
              "\n",
              "                                      clean_text_content clean_text_category  \n",
              "0      mẫu đồng hồ thông minh galaxy gear samsung - ả...           công nghệ  \n",
              "1      phó tổng thống mỹ công u châu á bàn về biển đô...            thế giới  \n",
              "2      hàng ngàn học sinh tốt nghiệp thcs ự thi thpt ...            giáo dục  \n",
              "3      mr búp bê bb hay bạn đến kèm cô em học nhỉ chắ...            đời sống  \n",
              "4      trang wire mới đưa thông tin cậu bé ammar mali...           công nghệ  \n",
              "...                                                  ...                 ...  \n",
              "51994                                            việt an            khoa học  \n",
              "51995  chú gấu túi kẹt trong bánh xe ô tô nguồn jane ...            khoa học  \n",
              "51996  vieo đập chổi đầu cá mập trắng khổng lồ mới tờ...            khoa học  \n",
              "51997  máy ảnh vệ tinh chụp bức hình giống bánh xe vẽ...            khoa học  \n",
              "51998  cô nàng gấu trúc funi hào hứng ự tiệc ngoài tr...            khoa học  \n",
              "\n",
              "[51999 rows x 5 columns]"
            ],
            "text/html": [
              "\n",
              "  <div id=\"df-6b6ac925-6504-44de-a8d4-2124f50a1056\">\n",
              "    <div class=\"colab-df-container\">\n",
              "      <div>\n",
              "<style scoped>\n",
              "    .dataframe tbody tr th:only-of-type {\n",
              "        vertical-align: middle;\n",
              "    }\n",
              "\n",
              "    .dataframe tbody tr th {\n",
              "        vertical-align: top;\n",
              "    }\n",
              "\n",
              "    .dataframe thead th {\n",
              "        text-align: right;\n",
              "    }\n",
              "</style>\n",
              "<table border=\"1\" class=\"dataframe\">\n",
              "  <thead>\n",
              "    <tr style=\"text-align: right;\">\n",
              "      <th></th>\n",
              "      <th>title</th>\n",
              "      <th>category</th>\n",
              "      <th>content</th>\n",
              "      <th>clean_text_content</th>\n",
              "      <th>clean_text_category</th>\n",
              "    </tr>\n",
              "  </thead>\n",
              "  <tbody>\n",
              "    <tr>\n",
              "      <th>0</th>\n",
              "      <td>Galaxy Gear có thể điều khiển TV thông minh</td>\n",
              "      <td>Công nghệ</td>\n",
              "      <td>Mẫu đồng hồ thông minh Galaxy Gear của Samsung...</td>\n",
              "      <td>mẫu đồng hồ thông minh galaxy gear samsung - ả...</td>\n",
              "      <td>công nghệ</td>\n",
              "    </tr>\n",
              "    <tr>\n",
              "      <th>1</th>\n",
              "      <td>Nhật – Mỹ định hội đàm chớp nhoáng tại Singapo...</td>\n",
              "      <td>Thế giới</td>\n",
              "      <td>&gt;&gt; Phó Tổng thống Mỹ công du châu Á, bàn về Bi...</td>\n",
              "      <td>phó tổng thống mỹ công u châu á bàn về biển đô...</td>\n",
              "      <td>thế giới</td>\n",
              "    </tr>\n",
              "    <tr>\n",
              "      <th>2</th>\n",
              "      <td>Hàng ngàn học sinh miền núi Nghệ An bỏ học</td>\n",
              "      <td>Giáo dục</td>\n",
              "      <td>Hàng ngàn học sinh sau khi tốt nghiệp THCS đã ...</td>\n",
              "      <td>hàng ngàn học sinh tốt nghiệp thcs ự thi thpt ...</td>\n",
              "      <td>giáo dục</td>\n",
              "    </tr>\n",
              "    <tr>\n",
              "      <th>3</th>\n",
              "      <td>'Cô ấy bỏ em vì... em gái trượt đại học?'</td>\n",
              "      <td>Đời sống</td>\n",
              "      <td>Mr Búp Bê (BB): Hay là bạn phải đến kèm cho cô...</td>\n",
              "      <td>mr búp bê bb hay bạn đến kèm cô em học nhỉ chắ...</td>\n",
              "      <td>đời sống</td>\n",
              "    </tr>\n",
              "    <tr>\n",
              "      <th>4</th>\n",
              "      <td>Cậu bé vượt qua Face ID của iPhone ngang anh Q...</td>\n",
              "      <td>Công nghệ</td>\n",
              "      <td>Trang Wired mới đây đưa thông tin cậu bé Ammar...</td>\n",
              "      <td>trang wire mới đưa thông tin cậu bé ammar mali...</td>\n",
              "      <td>công nghệ</td>\n",
              "    </tr>\n",
              "    <tr>\n",
              "      <th>...</th>\n",
              "      <td>...</td>\n",
              "      <td>...</td>\n",
              "      <td>...</td>\n",
              "      <td>...</td>\n",
              "      <td>...</td>\n",
              "    </tr>\n",
              "    <tr>\n",
              "      <th>51994</th>\n",
              "      <td>Toàn cảnh tìm thấy hài cốt được cho là 2 phi c...</td>\n",
              "      <td>Khoa học</td>\n",
              "      <td>VIỆT AN.\\n</td>\n",
              "      <td>việt an</td>\n",
              "      <td>khoa học</td>\n",
              "    </tr>\n",
              "    <tr>\n",
              "      <th>51995</th>\n",
              "      <td>Chú gấu túi may mắn sống sót sau hành trình 16...</td>\n",
              "      <td>Khoa học</td>\n",
              "      <td>Chú gấu túi bị kẹt trong bánh xe ô tô. (Nguồn:...</td>\n",
              "      <td>chú gấu túi kẹt trong bánh xe ô tô nguồn jane ...</td>\n",
              "      <td>khoa học</td>\n",
              "    </tr>\n",
              "    <tr>\n",
              "      <th>51996</th>\n",
              "      <td>Bị cá mập trắng tấn công, dùng chổi đánh lại t...</td>\n",
              "      <td>Khoa học</td>\n",
              "      <td>Video đập chổi vào đầu cá mập trắng khổng lồ.\\...</td>\n",
              "      <td>vieo đập chổi đầu cá mập trắng khổng lồ mới tờ...</td>\n",
              "      <td>khoa học</td>\n",
              "    </tr>\n",
              "    <tr>\n",
              "      <th>51997</th>\n",
              "      <td>Phát hiện những hình vẽ bí ẩn trên sa mạc ở Tr...</td>\n",
              "      <td>Khoa học</td>\n",
              "      <td>Máy ảnh của vệ tinh đã chụp được những bức hìn...</td>\n",
              "      <td>máy ảnh vệ tinh chụp bức hình giống bánh xe vẽ...</td>\n",
              "      <td>khoa học</td>\n",
              "    </tr>\n",
              "    <tr>\n",
              "      <th>51998</th>\n",
              "      <td>Hài hước với chùm ảnh động vật đón Giáng Sinh</td>\n",
              "      <td>Khoa học</td>\n",
              "      <td>Cô nàng gấu trúc Funi rất hào hứng khi được dự...</td>\n",
              "      <td>cô nàng gấu trúc funi hào hứng ự tiệc ngoài tr...</td>\n",
              "      <td>khoa học</td>\n",
              "    </tr>\n",
              "  </tbody>\n",
              "</table>\n",
              "<p>51999 rows × 5 columns</p>\n",
              "</div>\n",
              "      <button class=\"colab-df-convert\" onclick=\"convertToInteractive('df-6b6ac925-6504-44de-a8d4-2124f50a1056')\"\n",
              "              title=\"Convert this dataframe to an interactive table.\"\n",
              "              style=\"display:none;\">\n",
              "        \n",
              "  <svg xmlns=\"http://www.w3.org/2000/svg\" height=\"24px\"viewBox=\"0 0 24 24\"\n",
              "       width=\"24px\">\n",
              "    <path d=\"M0 0h24v24H0V0z\" fill=\"none\"/>\n",
              "    <path d=\"M18.56 5.44l.94 2.06.94-2.06 2.06-.94-2.06-.94-.94-2.06-.94 2.06-2.06.94zm-11 1L8.5 8.5l.94-2.06 2.06-.94-2.06-.94L8.5 2.5l-.94 2.06-2.06.94zm10 10l.94 2.06.94-2.06 2.06-.94-2.06-.94-.94-2.06-.94 2.06-2.06.94z\"/><path d=\"M17.41 7.96l-1.37-1.37c-.4-.4-.92-.59-1.43-.59-.52 0-1.04.2-1.43.59L10.3 9.45l-7.72 7.72c-.78.78-.78 2.05 0 2.83L4 21.41c.39.39.9.59 1.41.59.51 0 1.02-.2 1.41-.59l7.78-7.78 2.81-2.81c.8-.78.8-2.07 0-2.86zM5.41 20L4 18.59l7.72-7.72 1.47 1.35L5.41 20z\"/>\n",
              "  </svg>\n",
              "      </button>\n",
              "      \n",
              "  <style>\n",
              "    .colab-df-container {\n",
              "      display:flex;\n",
              "      flex-wrap:wrap;\n",
              "      gap: 12px;\n",
              "    }\n",
              "\n",
              "    .colab-df-convert {\n",
              "      background-color: #E8F0FE;\n",
              "      border: none;\n",
              "      border-radius: 50%;\n",
              "      cursor: pointer;\n",
              "      display: none;\n",
              "      fill: #1967D2;\n",
              "      height: 32px;\n",
              "      padding: 0 0 0 0;\n",
              "      width: 32px;\n",
              "    }\n",
              "\n",
              "    .colab-df-convert:hover {\n",
              "      background-color: #E2EBFA;\n",
              "      box-shadow: 0px 1px 2px rgba(60, 64, 67, 0.3), 0px 1px 3px 1px rgba(60, 64, 67, 0.15);\n",
              "      fill: #174EA6;\n",
              "    }\n",
              "\n",
              "    [theme=dark] .colab-df-convert {\n",
              "      background-color: #3B4455;\n",
              "      fill: #D2E3FC;\n",
              "    }\n",
              "\n",
              "    [theme=dark] .colab-df-convert:hover {\n",
              "      background-color: #434B5C;\n",
              "      box-shadow: 0px 1px 3px 1px rgba(0, 0, 0, 0.15);\n",
              "      filter: drop-shadow(0px 1px 2px rgba(0, 0, 0, 0.3));\n",
              "      fill: #FFFFFF;\n",
              "    }\n",
              "  </style>\n",
              "\n",
              "      <script>\n",
              "        const buttonEl =\n",
              "          document.querySelector('#df-6b6ac925-6504-44de-a8d4-2124f50a1056 button.colab-df-convert');\n",
              "        buttonEl.style.display =\n",
              "          google.colab.kernel.accessAllowed ? 'block' : 'none';\n",
              "\n",
              "        async function convertToInteractive(key) {\n",
              "          const element = document.querySelector('#df-6b6ac925-6504-44de-a8d4-2124f50a1056');\n",
              "          const dataTable =\n",
              "            await google.colab.kernel.invokeFunction('convertToInteractive',\n",
              "                                                     [key], {});\n",
              "          if (!dataTable) return;\n",
              "\n",
              "          const docLinkHtml = 'Like what you see? Visit the ' +\n",
              "            '<a target=\"_blank\" href=https://colab.research.google.com/notebooks/data_table.ipynb>data table notebook</a>'\n",
              "            + ' to learn more about interactive tables.';\n",
              "          element.innerHTML = '';\n",
              "          dataTable['output_type'] = 'display_data';\n",
              "          await google.colab.output.renderOutput(dataTable, element);\n",
              "          const docLink = document.createElement('div');\n",
              "          docLink.innerHTML = docLinkHtml;\n",
              "          element.appendChild(docLink);\n",
              "        }\n",
              "      </script>\n",
              "    </div>\n",
              "  </div>\n",
              "  "
            ]
          },
          "metadata": {},
          "execution_count": 9
        }
      ]
    },
    {
      "cell_type": "markdown",
      "source": [
        "**tokenization**"
      ],
      "metadata": {
        "id": "s4UQJLK5_fEm"
      }
    },
    {
      "cell_type": "code",
      "source": [
        "df['clean_text_content'] = df['clean_text_content'].apply(gensim.utils.simple_preprocess)\n",
        "df"
      ],
      "metadata": {
        "colab": {
          "base_uri": "https://localhost:8080/",
          "height": 641
        },
        "id": "BEgmJstZMEyq",
        "outputId": "b209d8db-33d7-4210-829f-76f29b9a5987"
      },
      "execution_count": null,
      "outputs": [
        {
          "output_type": "execute_result",
          "data": {
            "text/plain": [
              "                                                   title   category  \\\n",
              "0            Galaxy Gear có thể điều khiển TV thông minh  Công nghệ   \n",
              "1      Nhật – Mỹ định hội đàm chớp nhoáng tại Singapo...   Thế giới   \n",
              "2             Hàng ngàn học sinh miền núi Nghệ An bỏ học   Giáo dục   \n",
              "3              'Cô ấy bỏ em vì... em gái trượt đại học?'   Đời sống   \n",
              "4      Cậu bé vượt qua Face ID của iPhone ngang anh Q...  Công nghệ   \n",
              "...                                                  ...        ...   \n",
              "51994  Toàn cảnh tìm thấy hài cốt được cho là 2 phi c...   Khoa học   \n",
              "51995  Chú gấu túi may mắn sống sót sau hành trình 16...   Khoa học   \n",
              "51996  Bị cá mập trắng tấn công, dùng chổi đánh lại t...   Khoa học   \n",
              "51997  Phát hiện những hình vẽ bí ẩn trên sa mạc ở Tr...   Khoa học   \n",
              "51998      Hài hước với chùm ảnh động vật đón Giáng Sinh   Khoa học   \n",
              "\n",
              "                                                 content  \\\n",
              "0      Mẫu đồng hồ thông minh Galaxy Gear của Samsung...   \n",
              "1      >> Phó Tổng thống Mỹ công du châu Á, bàn về Bi...   \n",
              "2      Hàng ngàn học sinh sau khi tốt nghiệp THCS đã ...   \n",
              "3      Mr Búp Bê (BB): Hay là bạn phải đến kèm cho cô...   \n",
              "4      Trang Wired mới đây đưa thông tin cậu bé Ammar...   \n",
              "...                                                  ...   \n",
              "51994                                         VIỆT AN.\\n   \n",
              "51995  Chú gấu túi bị kẹt trong bánh xe ô tô. (Nguồn:...   \n",
              "51996  Video đập chổi vào đầu cá mập trắng khổng lồ.\\...   \n",
              "51997  Máy ảnh của vệ tinh đã chụp được những bức hìn...   \n",
              "51998  Cô nàng gấu trúc Funi rất hào hứng khi được dự...   \n",
              "\n",
              "                                      clean_text_content clean_text_category  \n",
              "0      [mẫu, đồng, hồ, thông, minh, galaxy, gear, sam...           công nghệ  \n",
              "1      [phó, tổng, thống, mỹ, công, châu, bàn, về, bi...            thế giới  \n",
              "2      [hàng, ngàn, học, sinh, tốt, nghiệp, thcs, thi...            giáo dục  \n",
              "3      [mr, búp, bê, bb, hay, bạn, đến, kèm, cô, em, ...            đời sống  \n",
              "4      [trang, wire, mới, đưa, thông, tin, cậu, bé, a...           công nghệ  \n",
              "...                                                  ...                 ...  \n",
              "51994                                         [việt, an]            khoa học  \n",
              "51995  [chú, gấu, túi, kẹt, trong, bánh, xe, tô, nguồ...            khoa học  \n",
              "51996  [vieo, đập, chổi, đầu, cá, mập, trắng, khổng, ...            khoa học  \n",
              "51997  [máy, ảnh, vệ, tinh, chụp, bức, hình, giống, b...            khoa học  \n",
              "51998  [cô, nàng, gấu, trúc, funi, hào, hứng, tiệc, n...            khoa học  \n",
              "\n",
              "[51999 rows x 5 columns]"
            ],
            "text/html": [
              "\n",
              "  <div id=\"df-71c48674-b616-44c3-a309-cdd0dae1966a\">\n",
              "    <div class=\"colab-df-container\">\n",
              "      <div>\n",
              "<style scoped>\n",
              "    .dataframe tbody tr th:only-of-type {\n",
              "        vertical-align: middle;\n",
              "    }\n",
              "\n",
              "    .dataframe tbody tr th {\n",
              "        vertical-align: top;\n",
              "    }\n",
              "\n",
              "    .dataframe thead th {\n",
              "        text-align: right;\n",
              "    }\n",
              "</style>\n",
              "<table border=\"1\" class=\"dataframe\">\n",
              "  <thead>\n",
              "    <tr style=\"text-align: right;\">\n",
              "      <th></th>\n",
              "      <th>title</th>\n",
              "      <th>category</th>\n",
              "      <th>content</th>\n",
              "      <th>clean_text_content</th>\n",
              "      <th>clean_text_category</th>\n",
              "    </tr>\n",
              "  </thead>\n",
              "  <tbody>\n",
              "    <tr>\n",
              "      <th>0</th>\n",
              "      <td>Galaxy Gear có thể điều khiển TV thông minh</td>\n",
              "      <td>Công nghệ</td>\n",
              "      <td>Mẫu đồng hồ thông minh Galaxy Gear của Samsung...</td>\n",
              "      <td>[mẫu, đồng, hồ, thông, minh, galaxy, gear, sam...</td>\n",
              "      <td>công nghệ</td>\n",
              "    </tr>\n",
              "    <tr>\n",
              "      <th>1</th>\n",
              "      <td>Nhật – Mỹ định hội đàm chớp nhoáng tại Singapo...</td>\n",
              "      <td>Thế giới</td>\n",
              "      <td>&gt;&gt; Phó Tổng thống Mỹ công du châu Á, bàn về Bi...</td>\n",
              "      <td>[phó, tổng, thống, mỹ, công, châu, bàn, về, bi...</td>\n",
              "      <td>thế giới</td>\n",
              "    </tr>\n",
              "    <tr>\n",
              "      <th>2</th>\n",
              "      <td>Hàng ngàn học sinh miền núi Nghệ An bỏ học</td>\n",
              "      <td>Giáo dục</td>\n",
              "      <td>Hàng ngàn học sinh sau khi tốt nghiệp THCS đã ...</td>\n",
              "      <td>[hàng, ngàn, học, sinh, tốt, nghiệp, thcs, thi...</td>\n",
              "      <td>giáo dục</td>\n",
              "    </tr>\n",
              "    <tr>\n",
              "      <th>3</th>\n",
              "      <td>'Cô ấy bỏ em vì... em gái trượt đại học?'</td>\n",
              "      <td>Đời sống</td>\n",
              "      <td>Mr Búp Bê (BB): Hay là bạn phải đến kèm cho cô...</td>\n",
              "      <td>[mr, búp, bê, bb, hay, bạn, đến, kèm, cô, em, ...</td>\n",
              "      <td>đời sống</td>\n",
              "    </tr>\n",
              "    <tr>\n",
              "      <th>4</th>\n",
              "      <td>Cậu bé vượt qua Face ID của iPhone ngang anh Q...</td>\n",
              "      <td>Công nghệ</td>\n",
              "      <td>Trang Wired mới đây đưa thông tin cậu bé Ammar...</td>\n",
              "      <td>[trang, wire, mới, đưa, thông, tin, cậu, bé, a...</td>\n",
              "      <td>công nghệ</td>\n",
              "    </tr>\n",
              "    <tr>\n",
              "      <th>...</th>\n",
              "      <td>...</td>\n",
              "      <td>...</td>\n",
              "      <td>...</td>\n",
              "      <td>...</td>\n",
              "      <td>...</td>\n",
              "    </tr>\n",
              "    <tr>\n",
              "      <th>51994</th>\n",
              "      <td>Toàn cảnh tìm thấy hài cốt được cho là 2 phi c...</td>\n",
              "      <td>Khoa học</td>\n",
              "      <td>VIỆT AN.\\n</td>\n",
              "      <td>[việt, an]</td>\n",
              "      <td>khoa học</td>\n",
              "    </tr>\n",
              "    <tr>\n",
              "      <th>51995</th>\n",
              "      <td>Chú gấu túi may mắn sống sót sau hành trình 16...</td>\n",
              "      <td>Khoa học</td>\n",
              "      <td>Chú gấu túi bị kẹt trong bánh xe ô tô. (Nguồn:...</td>\n",
              "      <td>[chú, gấu, túi, kẹt, trong, bánh, xe, tô, nguồ...</td>\n",
              "      <td>khoa học</td>\n",
              "    </tr>\n",
              "    <tr>\n",
              "      <th>51996</th>\n",
              "      <td>Bị cá mập trắng tấn công, dùng chổi đánh lại t...</td>\n",
              "      <td>Khoa học</td>\n",
              "      <td>Video đập chổi vào đầu cá mập trắng khổng lồ.\\...</td>\n",
              "      <td>[vieo, đập, chổi, đầu, cá, mập, trắng, khổng, ...</td>\n",
              "      <td>khoa học</td>\n",
              "    </tr>\n",
              "    <tr>\n",
              "      <th>51997</th>\n",
              "      <td>Phát hiện những hình vẽ bí ẩn trên sa mạc ở Tr...</td>\n",
              "      <td>Khoa học</td>\n",
              "      <td>Máy ảnh của vệ tinh đã chụp được những bức hìn...</td>\n",
              "      <td>[máy, ảnh, vệ, tinh, chụp, bức, hình, giống, b...</td>\n",
              "      <td>khoa học</td>\n",
              "    </tr>\n",
              "    <tr>\n",
              "      <th>51998</th>\n",
              "      <td>Hài hước với chùm ảnh động vật đón Giáng Sinh</td>\n",
              "      <td>Khoa học</td>\n",
              "      <td>Cô nàng gấu trúc Funi rất hào hứng khi được dự...</td>\n",
              "      <td>[cô, nàng, gấu, trúc, funi, hào, hứng, tiệc, n...</td>\n",
              "      <td>khoa học</td>\n",
              "    </tr>\n",
              "  </tbody>\n",
              "</table>\n",
              "<p>51999 rows × 5 columns</p>\n",
              "</div>\n",
              "      <button class=\"colab-df-convert\" onclick=\"convertToInteractive('df-71c48674-b616-44c3-a309-cdd0dae1966a')\"\n",
              "              title=\"Convert this dataframe to an interactive table.\"\n",
              "              style=\"display:none;\">\n",
              "        \n",
              "  <svg xmlns=\"http://www.w3.org/2000/svg\" height=\"24px\"viewBox=\"0 0 24 24\"\n",
              "       width=\"24px\">\n",
              "    <path d=\"M0 0h24v24H0V0z\" fill=\"none\"/>\n",
              "    <path d=\"M18.56 5.44l.94 2.06.94-2.06 2.06-.94-2.06-.94-.94-2.06-.94 2.06-2.06.94zm-11 1L8.5 8.5l.94-2.06 2.06-.94-2.06-.94L8.5 2.5l-.94 2.06-2.06.94zm10 10l.94 2.06.94-2.06 2.06-.94-2.06-.94-.94-2.06-.94 2.06-2.06.94z\"/><path d=\"M17.41 7.96l-1.37-1.37c-.4-.4-.92-.59-1.43-.59-.52 0-1.04.2-1.43.59L10.3 9.45l-7.72 7.72c-.78.78-.78 2.05 0 2.83L4 21.41c.39.39.9.59 1.41.59.51 0 1.02-.2 1.41-.59l7.78-7.78 2.81-2.81c.8-.78.8-2.07 0-2.86zM5.41 20L4 18.59l7.72-7.72 1.47 1.35L5.41 20z\"/>\n",
              "  </svg>\n",
              "      </button>\n",
              "      \n",
              "  <style>\n",
              "    .colab-df-container {\n",
              "      display:flex;\n",
              "      flex-wrap:wrap;\n",
              "      gap: 12px;\n",
              "    }\n",
              "\n",
              "    .colab-df-convert {\n",
              "      background-color: #E8F0FE;\n",
              "      border: none;\n",
              "      border-radius: 50%;\n",
              "      cursor: pointer;\n",
              "      display: none;\n",
              "      fill: #1967D2;\n",
              "      height: 32px;\n",
              "      padding: 0 0 0 0;\n",
              "      width: 32px;\n",
              "    }\n",
              "\n",
              "    .colab-df-convert:hover {\n",
              "      background-color: #E2EBFA;\n",
              "      box-shadow: 0px 1px 2px rgba(60, 64, 67, 0.3), 0px 1px 3px 1px rgba(60, 64, 67, 0.15);\n",
              "      fill: #174EA6;\n",
              "    }\n",
              "\n",
              "    [theme=dark] .colab-df-convert {\n",
              "      background-color: #3B4455;\n",
              "      fill: #D2E3FC;\n",
              "    }\n",
              "\n",
              "    [theme=dark] .colab-df-convert:hover {\n",
              "      background-color: #434B5C;\n",
              "      box-shadow: 0px 1px 3px 1px rgba(0, 0, 0, 0.15);\n",
              "      filter: drop-shadow(0px 1px 2px rgba(0, 0, 0, 0.3));\n",
              "      fill: #FFFFFF;\n",
              "    }\n",
              "  </style>\n",
              "\n",
              "      <script>\n",
              "        const buttonEl =\n",
              "          document.querySelector('#df-71c48674-b616-44c3-a309-cdd0dae1966a button.colab-df-convert');\n",
              "        buttonEl.style.display =\n",
              "          google.colab.kernel.accessAllowed ? 'block' : 'none';\n",
              "\n",
              "        async function convertToInteractive(key) {\n",
              "          const element = document.querySelector('#df-71c48674-b616-44c3-a309-cdd0dae1966a');\n",
              "          const dataTable =\n",
              "            await google.colab.kernel.invokeFunction('convertToInteractive',\n",
              "                                                     [key], {});\n",
              "          if (!dataTable) return;\n",
              "\n",
              "          const docLinkHtml = 'Like what you see? Visit the ' +\n",
              "            '<a target=\"_blank\" href=https://colab.research.google.com/notebooks/data_table.ipynb>data table notebook</a>'\n",
              "            + ' to learn more about interactive tables.';\n",
              "          element.innerHTML = '';\n",
              "          dataTable['output_type'] = 'display_data';\n",
              "          await google.colab.output.renderOutput(dataTable, element);\n",
              "          const docLink = document.createElement('div');\n",
              "          docLink.innerHTML = docLinkHtml;\n",
              "          element.appendChild(docLink);\n",
              "        }\n",
              "      </script>\n",
              "    </div>\n",
              "  </div>\n",
              "  "
            ]
          },
          "metadata": {},
          "execution_count": 10
        }
      ]
    },
    {
      "cell_type": "markdown",
      "source": [
        "**Biểu diễn văn bản**"
      ],
      "metadata": {
        "id": "q13a5X_QlGH3"
      }
    },
    {
      "cell_type": "markdown",
      "source": [
        "**One-hot**"
      ],
      "metadata": {
        "id": "RMQ06Y24oUHl"
      }
    },
    {
      "cell_type": "markdown",
      "source": [
        "One-hot encoding là quá trình biến đổi từng giá trị thành các đặc trưng nhị phân chỉ chứa giá trị 1 hoặc 0. Mỗi mẫu trong đặc trưng phân loại sẽ được biến đổi thành một vector có kích thước m chỉ với một trong các giá trị là 1"
      ],
      "metadata": {
        "id": "g6-toOKxkyjP"
      }
    },
    {
      "cell_type": "code",
      "source": [
        "from sklearn.preprocessing import OneHotEncoder, LabelEncoder\n",
        "\n",
        "# transform and map pokemon generations\n",
        "X = df['clean_text_content'].astype('str')\n",
        "\n",
        "# integer encode\n",
        "label_encoder  = LabelEncoder()\n",
        "integer_encoded = label_encoder.fit_transform(X)\n",
        "print(integer_encoded)\n",
        "\n",
        "# binary encode\n",
        "onehot_encoder = OneHotEncoder(sparse=False)\n",
        "integer_encoded = integer_encoded.reshape(len(integer_encoded), 1)\n",
        "onehot_encoded = onehot_encoder.fit_transform(integer_encoded)\n",
        "print(onehot_encoded)\n",
        "\n",
        "X = onehot_encoded\n",
        "print(X.shape)"
      ],
      "metadata": {
        "id": "BxlaNEsPXWD7",
        "colab": {
          "base_uri": "https://localhost:8080/"
        },
        "outputId": "2d6f4016-f0d8-4c81-8248-317d3e01264e"
      },
      "execution_count": null,
      "outputs": [
        {
          "output_type": "stream",
          "name": "stdout",
          "text": [
            "[20890 30050 13764 ... 43799 20384  7663]\n",
            "[[0. 0. 0. ... 0. 0. 0.]\n",
            " [0. 0. 0. ... 0. 0. 0.]\n",
            " [0. 0. 0. ... 0. 0. 0.]\n",
            " ...\n",
            " [0. 0. 0. ... 0. 0. 0.]\n",
            " [0. 0. 0. ... 0. 0. 0.]\n",
            " [0. 0. 0. ... 0. 0. 0.]]\n",
            "(51999, 51562)\n"
          ]
        }
      ]
    },
    {
      "cell_type": "markdown",
      "source": [
        "**TF-IDF**"
      ],
      "metadata": {
        "id": "4zQtdS53osD3"
      }
    },
    {
      "cell_type": "markdown",
      "source": [
        "+tf-idf là trọng số của một từ trong văn bản thu được qua thống kê thể hiện mức độ quan trọng của từ này trong một văn bản, mà bản thân văn bản đang xét nằm trong một tập hợp các văn bản.\n",
        "\n",
        "+Thuật toán này thường được sử dụng vì: trong ngôn ngữ luôn có những từ xảy ra thường xuyên với các từ khác.\n",
        "\n",
        "+Luôn có một tập các từ mà tần số xuất hiện, sử dụng nhiều hơn các từ khác, điều này đúng trong bất kì ngôn ngữ nào. Chính vì vậy ta cần có một phương pháp để làm việc cân bằng mức độ quan trọng giữa các từ.\n",
        "\n"
      ],
      "metadata": {
        "id": "kZi9NsIllPqp"
      }
    },
    {
      "cell_type": "code",
      "source": [
        "#Creating the features (tf-idf weights) for the processed text\n",
        "\n",
        "X = df['clean_text_content'].astype('str')\n",
        "\n",
        "tfidf_vectorizer = TfidfVectorizer(ngram_range=(1, 2),\n",
        "                                   min_df = 2,\n",
        "                                   max_df = .95)\n",
        "\n",
        "X = tfidf_vectorizer.fit_transform(X) #features\n",
        "y = df['clean_text_category'].values #target\n",
        "\n",
        "print (X.shape)\n",
        "print(y.shape)"
      ],
      "metadata": {
        "colab": {
          "base_uri": "https://localhost:8080/"
        },
        "id": "H7RcD1X9GOXE",
        "outputId": "d020614d-7e9a-4f09-c5ce-3eed45abed40"
      },
      "execution_count": null,
      "outputs": [
        {
          "output_type": "stream",
          "name": "stdout",
          "text": [
            "(51999, 1051690)\n",
            "(51999,)\n"
          ]
        }
      ]
    },
    {
      "cell_type": "markdown",
      "source": [
        "**Lấy 100 features tốt nhất để huấn luyện**"
      ],
      "metadata": {
        "id": "3unFCQcP6d7a"
      }
    },
    {
      "cell_type": "code",
      "source": [
        "from sklearn.decomposition import TruncatedSVD\n",
        "lsa = TruncatedSVD(n_components=100,\n",
        "                   n_iter=10,\n",
        "                   random_state=3)\n",
        "\n",
        "X = lsa.fit_transform(X)\n",
        "X.shape"
      ],
      "metadata": {
        "colab": {
          "base_uri": "https://localhost:8080/"
        },
        "id": "BAiQYyb5KfaS",
        "outputId": "f8dae8c7-0af7-4d89-8d4c-7ac37fa29bc7"
      },
      "execution_count": null,
      "outputs": [
        {
          "output_type": "execute_result",
          "data": {
            "text/plain": [
              "(51999, 100)"
            ]
          },
          "metadata": {},
          "execution_count": 13
        }
      ]
    },
    {
      "cell_type": "code",
      "source": [
        "from sklearn.naive_bayes import GaussianNB\n",
        "from sklearn.tree import DecisionTreeClassifier\n",
        "from sklearn import svm\n",
        "from sklearn.linear_model import LogisticRegression"
      ],
      "metadata": {
        "id": "Hibn5NjNSrNS"
      },
      "execution_count": null,
      "outputs": []
    },
    {
      "cell_type": "markdown",
      "source": [
        "**Chia tập dữ liệu thành tập Train và Test**"
      ],
      "metadata": {
        "id": "wPpBJrQt6pgM"
      }
    },
    {
      "cell_type": "code",
      "source": [
        "# Train test split with stratified sampling for evaluation\n",
        "X_train, X_test, y_train, y_test = train_test_split(X,\n",
        "                                                    y,\n",
        "                                                    test_size = .3,\n",
        "                                                    shuffle = True,\n",
        "                                                    stratify = y,\n",
        "                                                    random_state = 3)\n"
      ],
      "metadata": {
        "id": "FQ9rw9l7Tydb"
      },
      "execution_count": null,
      "outputs": []
    },
    {
      "cell_type": "markdown",
      "source": [
        "**Khởi tạo các model phân loại cần thiết**"
      ],
      "metadata": {
        "id": "FvOJDI246xvg"
      }
    },
    {
      "cell_type": "markdown",
      "source": [
        "+Decsision Tree\n",
        "\n",
        "+SVM\n",
        "\n",
        "+Naive Bayes\n",
        "\n",
        "+Logistic Regression\n"
      ],
      "metadata": {
        "id": "EEw2jq2SlwIo"
      }
    },
    {
      "cell_type": "code",
      "source": [
        "#Creating a dict of the models\n",
        "model_dict = {\n",
        "              'Decsision Tree': DecisionTreeClassifier(random_state=3),\n",
        "              'SVM': svm.SVC(kernel='linear', C=1,gamma=0),\n",
        "              'Gaussian Naive Bayes': GaussianNB(),\n",
        "              'Logistic Regression' :LogisticRegression()\n",
        "\n",
        "              }"
      ],
      "metadata": {
        "id": "DtiCg3sISjtC"
      },
      "execution_count": null,
      "outputs": []
    },
    {
      "cell_type": "markdown",
      "source": [
        "**Hàm dùng để tính score cho từng model**"
      ],
      "metadata": {
        "id": "ulNa66-A7Cu5"
      }
    },
    {
      "cell_type": "code",
      "source": [
        "#Function to get the scores for each model in a df\n",
        "from sklearn.metrics import accuracy_score, precision_score, recall_score, f1_score, roc_curve, auc, confusion_matrix\n",
        "\n",
        "def model_score_df(model_dict):\n",
        "    model_name, ac_score_list, p_score_list, r_score_list, f1_score_list = [], [], [], [], []\n",
        "    for k,v in model_dict.items():\n",
        "        model_name.append(k)\n",
        "        v.fit(X_train, y_train)\n",
        "        y_pred = v.predict(X_test)\n",
        "        ac_score_list.append(accuracy_score(y_test, y_pred))\n",
        "        p_score_list.append(precision_score(y_test, y_pred, average='macro'))\n",
        "        r_score_list.append(recall_score(y_test, y_pred, average='macro'))\n",
        "        f1_score_list.append(f1_score(y_test, y_pred, average='macro'))\n",
        "        model_comparison_df = pd.DataFrame([model_name, ac_score_list, p_score_list, r_score_list, f1_score_list]).T\n",
        "        model_comparison_df.columns = ['model_name', 'accuracy_score', 'precision_score', 'recall_score', 'f1_score']\n",
        "        model_comparison_df = model_comparison_df.sort_values(by='f1_score', ascending=False)\n",
        "    return model_comparison_df"
      ],
      "metadata": {
        "id": "WDNDfh3-T2Z9"
      },
      "execution_count": null,
      "outputs": []
    },
    {
      "cell_type": "code",
      "source": [
        "model_score_df(model_dict)"
      ],
      "metadata": {
        "id": "PhvCNnV-UFF4",
        "colab": {
          "base_uri": "https://localhost:8080/",
          "height": 175
        },
        "outputId": "7701667d-a47e-4796-8083-78d13d299ea4"
      },
      "execution_count": null,
      "outputs": [
        {
          "output_type": "execute_result",
          "data": {
            "text/plain": [
              "             model_name accuracy_score precision_score recall_score  f1_score\n",
              "3   Logistic Regression       0.813013        0.814075     0.813013  0.813051\n",
              "1                   SVM       0.811154         0.81338     0.811154  0.811517\n",
              "2  Gaussian Naive Bayes       0.713974        0.721591     0.713974  0.713765\n",
              "0        Decsision Tree       0.678782        0.679289     0.678782  0.678964"
            ],
            "text/html": [
              "\n",
              "  <div id=\"df-45f8fe0e-04a6-45bf-acc2-583f34cc26be\">\n",
              "    <div class=\"colab-df-container\">\n",
              "      <div>\n",
              "<style scoped>\n",
              "    .dataframe tbody tr th:only-of-type {\n",
              "        vertical-align: middle;\n",
              "    }\n",
              "\n",
              "    .dataframe tbody tr th {\n",
              "        vertical-align: top;\n",
              "    }\n",
              "\n",
              "    .dataframe thead th {\n",
              "        text-align: right;\n",
              "    }\n",
              "</style>\n",
              "<table border=\"1\" class=\"dataframe\">\n",
              "  <thead>\n",
              "    <tr style=\"text-align: right;\">\n",
              "      <th></th>\n",
              "      <th>model_name</th>\n",
              "      <th>accuracy_score</th>\n",
              "      <th>precision_score</th>\n",
              "      <th>recall_score</th>\n",
              "      <th>f1_score</th>\n",
              "    </tr>\n",
              "  </thead>\n",
              "  <tbody>\n",
              "    <tr>\n",
              "      <th>3</th>\n",
              "      <td>Logistic Regression</td>\n",
              "      <td>0.813013</td>\n",
              "      <td>0.814075</td>\n",
              "      <td>0.813013</td>\n",
              "      <td>0.813051</td>\n",
              "    </tr>\n",
              "    <tr>\n",
              "      <th>1</th>\n",
              "      <td>SVM</td>\n",
              "      <td>0.811154</td>\n",
              "      <td>0.81338</td>\n",
              "      <td>0.811154</td>\n",
              "      <td>0.811517</td>\n",
              "    </tr>\n",
              "    <tr>\n",
              "      <th>2</th>\n",
              "      <td>Gaussian Naive Bayes</td>\n",
              "      <td>0.713974</td>\n",
              "      <td>0.721591</td>\n",
              "      <td>0.713974</td>\n",
              "      <td>0.713765</td>\n",
              "    </tr>\n",
              "    <tr>\n",
              "      <th>0</th>\n",
              "      <td>Decsision Tree</td>\n",
              "      <td>0.678782</td>\n",
              "      <td>0.679289</td>\n",
              "      <td>0.678782</td>\n",
              "      <td>0.678964</td>\n",
              "    </tr>\n",
              "  </tbody>\n",
              "</table>\n",
              "</div>\n",
              "      <button class=\"colab-df-convert\" onclick=\"convertToInteractive('df-45f8fe0e-04a6-45bf-acc2-583f34cc26be')\"\n",
              "              title=\"Convert this dataframe to an interactive table.\"\n",
              "              style=\"display:none;\">\n",
              "        \n",
              "  <svg xmlns=\"http://www.w3.org/2000/svg\" height=\"24px\"viewBox=\"0 0 24 24\"\n",
              "       width=\"24px\">\n",
              "    <path d=\"M0 0h24v24H0V0z\" fill=\"none\"/>\n",
              "    <path d=\"M18.56 5.44l.94 2.06.94-2.06 2.06-.94-2.06-.94-.94-2.06-.94 2.06-2.06.94zm-11 1L8.5 8.5l.94-2.06 2.06-.94-2.06-.94L8.5 2.5l-.94 2.06-2.06.94zm10 10l.94 2.06.94-2.06 2.06-.94-2.06-.94-.94-2.06-.94 2.06-2.06.94z\"/><path d=\"M17.41 7.96l-1.37-1.37c-.4-.4-.92-.59-1.43-.59-.52 0-1.04.2-1.43.59L10.3 9.45l-7.72 7.72c-.78.78-.78 2.05 0 2.83L4 21.41c.39.39.9.59 1.41.59.51 0 1.02-.2 1.41-.59l7.78-7.78 2.81-2.81c.8-.78.8-2.07 0-2.86zM5.41 20L4 18.59l7.72-7.72 1.47 1.35L5.41 20z\"/>\n",
              "  </svg>\n",
              "      </button>\n",
              "      \n",
              "  <style>\n",
              "    .colab-df-container {\n",
              "      display:flex;\n",
              "      flex-wrap:wrap;\n",
              "      gap: 12px;\n",
              "    }\n",
              "\n",
              "    .colab-df-convert {\n",
              "      background-color: #E8F0FE;\n",
              "      border: none;\n",
              "      border-radius: 50%;\n",
              "      cursor: pointer;\n",
              "      display: none;\n",
              "      fill: #1967D2;\n",
              "      height: 32px;\n",
              "      padding: 0 0 0 0;\n",
              "      width: 32px;\n",
              "    }\n",
              "\n",
              "    .colab-df-convert:hover {\n",
              "      background-color: #E2EBFA;\n",
              "      box-shadow: 0px 1px 2px rgba(60, 64, 67, 0.3), 0px 1px 3px 1px rgba(60, 64, 67, 0.15);\n",
              "      fill: #174EA6;\n",
              "    }\n",
              "\n",
              "    [theme=dark] .colab-df-convert {\n",
              "      background-color: #3B4455;\n",
              "      fill: #D2E3FC;\n",
              "    }\n",
              "\n",
              "    [theme=dark] .colab-df-convert:hover {\n",
              "      background-color: #434B5C;\n",
              "      box-shadow: 0px 1px 3px 1px rgba(0, 0, 0, 0.15);\n",
              "      filter: drop-shadow(0px 1px 2px rgba(0, 0, 0, 0.3));\n",
              "      fill: #FFFFFF;\n",
              "    }\n",
              "  </style>\n",
              "\n",
              "      <script>\n",
              "        const buttonEl =\n",
              "          document.querySelector('#df-45f8fe0e-04a6-45bf-acc2-583f34cc26be button.colab-df-convert');\n",
              "        buttonEl.style.display =\n",
              "          google.colab.kernel.accessAllowed ? 'block' : 'none';\n",
              "\n",
              "        async function convertToInteractive(key) {\n",
              "          const element = document.querySelector('#df-45f8fe0e-04a6-45bf-acc2-583f34cc26be');\n",
              "          const dataTable =\n",
              "            await google.colab.kernel.invokeFunction('convertToInteractive',\n",
              "                                                     [key], {});\n",
              "          if (!dataTable) return;\n",
              "\n",
              "          const docLinkHtml = 'Like what you see? Visit the ' +\n",
              "            '<a target=\"_blank\" href=https://colab.research.google.com/notebooks/data_table.ipynb>data table notebook</a>'\n",
              "            + ' to learn more about interactive tables.';\n",
              "          element.innerHTML = '';\n",
              "          dataTable['output_type'] = 'display_data';\n",
              "          await google.colab.output.renderOutput(dataTable, element);\n",
              "          const docLink = document.createElement('div');\n",
              "          docLink.innerHTML = docLinkHtml;\n",
              "          element.appendChild(docLink);\n",
              "        }\n",
              "      </script>\n",
              "    </div>\n",
              "  </div>\n",
              "  "
            ]
          },
          "metadata": {},
          "execution_count": 18
        }
      ]
    }
  ]
}